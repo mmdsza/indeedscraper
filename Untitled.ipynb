{
 "cells": [
  {
   "cell_type": "code",
   "execution_count": 52,
   "metadata": {},
   "outputs": [],
   "source": [
    "import bs4\n",
    "from urllib.request import urlopen as ureq\n",
    "from bs4 import BeautifulSoup\n",
    "from selenium import webdriver\n",
    "import re"
   ]
  },
  {
   "cell_type": "code",
   "execution_count": 53,
   "metadata": {},
   "outputs": [],
   "source": [
    "chromedriver_location=('/usr/lib/chromium-browser/chromedriver')"
   ]
  },
  {
   "cell_type": "code",
   "execution_count": 54,
   "metadata": {},
   "outputs": [],
   "source": [
    "firsturl = 'https://www.indeed.co.in/jobs?q=&l=India'"
   ]
  },
  {
   "cell_type": "code",
   "execution_count": 55,
   "metadata": {},
   "outputs": [],
   "source": [
    "driver = webdriver.Chrome()\n",
    "driver.get(firsturl)"
   ]
  },
  {
   "cell_type": "code",
   "execution_count": 5,
   "metadata": {},
   "outputs": [],
   "source": [
    "uclient = ureq(firsturl)\n",
    "page_html = uclient.read()\n",
    "uclient.close()"
   ]
  },
  {
   "cell_type": "code",
   "execution_count": 6,
   "metadata": {},
   "outputs": [],
   "source": [
    "#pagesoup = soup(page_html, 'html.parser')"
   ]
  },
  {
   "cell_type": "code",
   "execution_count": 7,
   "metadata": {},
   "outputs": [],
   "source": [
    "#containers = pagesoup.find_all('div', {\"class\":\"jobsearch-SerpJobCard unifiedRow row result clickcard\"})"
   ]
  },
  {
   "cell_type": "code",
   "execution_count": 56,
   "metadata": {
    "scrolled": true
   },
   "outputs": [],
   "source": [
    "driver.get(firsturl)\n",
    "test = driver.page_source"
   ]
  },
  {
   "cell_type": "code",
   "execution_count": 57,
   "metadata": {},
   "outputs": [],
   "source": [
    "sopa = BeautifulSoup(test, 'html.parser')"
   ]
  },
  {
   "cell_type": "code",
   "execution_count": 58,
   "metadata": {},
   "outputs": [],
   "source": [
    "testes = sopa.find_all(\"div\", {\"class\":\"jobsearch-SerpJobCard unifiedRow row result clickcard\"})"
   ]
  },
  {
   "cell_type": "code",
   "execution_count": 59,
   "metadata": {},
   "outputs": [
    {
     "data": {
      "text/plain": [
       "'/rc/clk?jk=b429a915692f92ac&fccid=b6593c702af1745d&vjs=3'"
      ]
     },
     "execution_count": 59,
     "metadata": {},
     "output_type": "execute_result"
    }
   ],
   "source": [
    "testes[0].h2.a[\"href\"]"
   ]
  },
  {
   "cell_type": "code",
   "execution_count": 60,
   "metadata": {},
   "outputs": [],
   "source": [
    "links = []"
   ]
  },
  {
   "cell_type": "code",
   "execution_count": 61,
   "metadata": {},
   "outputs": [],
   "source": [
    "for link in testes:\n",
    "    cleanlink = link.h2.a[\"href\"]\n",
    "    fulllink = \"https://www.indeed.co.in\"+cleanlink\n",
    "    links.append(fulllink)"
   ]
  },
  {
   "cell_type": "code",
   "execution_count": 62,
   "metadata": {},
   "outputs": [
    {
     "data": {
      "text/plain": [
       "['https://www.indeed.co.in/rc/clk?jk=b429a915692f92ac&fccid=b6593c702af1745d&vjs=3',\n",
       " 'https://www.indeed.co.in/rc/clk?jk=760544519b245b9f&fccid=16657f7123a61258&vjs=3',\n",
       " 'https://www.indeed.co.in/rc/clk?jk=e4eba0ec56c73038&fccid=ebe92c1659c8371b&vjs=3',\n",
       " 'https://www.indeed.co.in/rc/clk?jk=bbd0c87f4aa934b5&fccid=a6fab41a2a4262c5&vjs=3',\n",
       " 'https://www.indeed.co.in/rc/clk?jk=eb29c0df6cd0257c&fccid=16657f7123a61258&vjs=3',\n",
       " 'https://www.indeed.co.in/rc/clk?jk=65cde011c7703dc7&fccid=11ce762f0d1b0b03&vjs=3',\n",
       " 'https://www.indeed.co.in/company/Shadowfax-Technologies-Pvt-Ltd/jobs/Delivery-Executive-d80ecd434bfb706c?fccid=89c02c17f9010d99&vjs=3',\n",
       " 'https://www.indeed.co.in/rc/clk?jk=d4b8b59042d0c3d6&fccid=1ee9ffc8a0598d6c&vjs=3',\n",
       " 'https://www.indeed.co.in/rc/clk?jk=bc49b41e66f32e35&fccid=a6fab41a2a4262c5&vjs=3',\n",
       " 'https://www.indeed.co.in/rc/clk?jk=597d45c5430b948b&fccid=2973259ddc967948&vjs=3',\n",
       " 'https://www.indeed.co.in/rc/clk?jk=b4281a50bc30edb2&fccid=346dfd0426815f62&vjs=3',\n",
       " 'https://www.indeed.co.in/rc/clk?jk=596bef4d18e2b19e&fccid=1ee9ffc8a0598d6c&vjs=3',\n",
       " 'https://www.indeed.co.in/rc/clk?jk=6a0d318252bc2120&fccid=c5b37b8d50f96401&vjs=3',\n",
       " 'https://www.indeed.co.in/company/Lenskart.com/jobs/Optometrist-faac765c92c343cf?fccid=ffebae55a778ec1a&vjs=3',\n",
       " 'https://www.indeed.co.in/rc/clk?jk=3e1bf206a8a1ef58&fccid=20d90a18bcf91db8&vjs=3']"
      ]
     },
     "execution_count": 62,
     "metadata": {},
     "output_type": "execute_result"
    }
   ],
   "source": [
    "links"
   ]
  },
  {
   "cell_type": "code",
   "execution_count": 70,
   "metadata": {},
   "outputs": [
    {
     "name": "stdout",
     "output_type": "stream",
     "text": [
      "https://www.indeed.co.in/viewjob?jk=b429a915692f92ac&from=serp&vjs=3\n",
      "https://www.indeed.co.in/viewjob?jk=760544519b245b9f&from=serp&vjs=3\n",
      "https://www.indeed.co.in/viewjob?jk=e4eba0ec56c73038&from=serp&vjs=3\n",
      "https://www.indeed.co.in/viewjob?jk=bbd0c87f4aa934b5&from=serp&vjs=3\n",
      "https://www.indeed.co.in/viewjob?jk=eb29c0df6cd0257c&from=serp&vjs=3\n",
      "https://www.indeed.co.in/viewjob?jk=65cde011c7703dc7&from=serp&vjs=3\n",
      "https://www.indeed.co.in/viewjob?cmp=Shadowfax-Technologies-Pvt-Ltd&t=Delivery+Executive&jk=d80ecd434bfb706c&vjs=3\n",
      "https://www.indeed.co.in/viewjob?jk=d4b8b59042d0c3d6&from=serp&vjs=3\n",
      "https://www.indeed.co.in/viewjob?jk=bc49b41e66f32e35&from=serp&vjs=3\n",
      "https://www.indeed.co.in/viewjob?jk=597d45c5430b948b&from=serp&vjs=3\n",
      "https://www.indeed.co.in/viewjob?jk=b4281a50bc30edb2&from=serp&vjs=3\n",
      "https://www.indeed.co.in/viewjob?jk=596bef4d18e2b19e&from=serp&vjs=3\n",
      "https://www.indeed.co.in/viewjob?jk=6a0d318252bc2120&from=serp&vjs=3\n",
      "https://www.indeed.co.in/viewjob?cmp=Lenskart.com&t=Optometrist&jk=faac765c92c343cf&vjs=3\n",
      "https://www.indeed.co.in/viewjob?jk=3e1bf206a8a1ef58&from=serp&vjs=3\n"
     ]
    }
   ],
   "source": [
    "for link in links:\n",
    "    driver.get(link)\n",
    "    url = driver.page_source\n",
    "    soup = BeautifulSoup(url, 'html.parser')\n",
    "    jobposting = soup.find_all(\"div\", {\"class\":\"jobsearch-ViewJobLayout-jobDisplay icl-Grid-col icl-u-xs-span12 icl-u-lg-span7\"})\n",
    "    for data in jobposting:\n",
    "        jobtitle = data.div.h1.text.strip().replace(\",\", \"&\")\n",
    "        categorybrute = driver.find_element_by_xpath(\"/html/body/div[1]/div[1]/div[3]/div/div/div[1]/div[2]/div/div/div[1]\").text\n",
    "        categoryclean = categorybrute.partition(\"jobs\")[0]\n",
    "        site = driver.current_url\n",
    "        print(site)"
   ]
  },
  {
   "cell_type": "code",
   "execution_count": 44,
   "metadata": {},
   "outputs": [
    {
     "name": "stdout",
     "output_type": "stream",
     "text": [
      "0\n",
      "10\n",
      "20\n",
      "30\n",
      "40\n",
      "50\n",
      "60\n",
      "70\n",
      "80\n",
      "90\n",
      "100\n",
      "110\n",
      "120\n",
      "130\n",
      "140\n",
      "150\n",
      "160\n",
      "170\n",
      "180\n",
      "190\n"
     ]
    }
   ],
   "source": [
    "for i in range(0,200, 10):\n",
    "    print(i)"
   ]
  },
  {
   "cell_type": "code",
   "execution_count": null,
   "metadata": {},
   "outputs": [],
   "source": []
  }
 ],
 "metadata": {
  "kernelspec": {
   "display_name": "Python 3",
   "language": "python",
   "name": "python3"
  },
  "language_info": {
   "codemirror_mode": {
    "name": "ipython",
    "version": 3
   },
   "file_extension": ".py",
   "mimetype": "text/x-python",
   "name": "python",
   "nbconvert_exporter": "python",
   "pygments_lexer": "ipython3",
   "version": "3.6.9"
  }
 },
 "nbformat": 4,
 "nbformat_minor": 4
}
