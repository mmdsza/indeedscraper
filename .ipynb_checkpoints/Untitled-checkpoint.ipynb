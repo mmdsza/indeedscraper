{
 "cells": [
  {
   "cell_type": "code",
   "execution_count": 21,
   "metadata": {},
   "outputs": [],
   "source": [
    "import bs4\n",
    "from urllib.request import urlopen as ureq\n",
    "from bs4 import BeautifulSoup\n",
    "from selenium import webdriver\n",
    "import re"
   ]
  },
  {
   "cell_type": "code",
   "execution_count": 2,
   "metadata": {},
   "outputs": [],
   "source": [
    "chromedriver_location=('/usr/lib/chromium-browser/chromedriver')"
   ]
  },
  {
   "cell_type": "code",
   "execution_count": 3,
   "metadata": {},
   "outputs": [],
   "source": [
    "firsturl = 'https://www.indeed.co.in/jobs?q=&l=India'"
   ]
  },
  {
   "cell_type": "code",
   "execution_count": 4,
   "metadata": {},
   "outputs": [],
   "source": [
    "driver = webdriver.Chrome()\n",
    "driver.get(firsturl)"
   ]
  },
  {
   "cell_type": "code",
   "execution_count": 5,
   "metadata": {},
   "outputs": [],
   "source": [
    "uclient = ureq(firsturl)\n",
    "page_html = uclient.read()\n",
    "uclient.close()"
   ]
  },
  {
   "cell_type": "code",
   "execution_count": 6,
   "metadata": {},
   "outputs": [],
   "source": [
    "#pagesoup = soup(page_html, 'html.parser')"
   ]
  },
  {
   "cell_type": "code",
   "execution_count": 7,
   "metadata": {},
   "outputs": [],
   "source": [
    "#containers = pagesoup.find_all('div', {\"class\":\"jobsearch-SerpJobCard unifiedRow row result clickcard\"})"
   ]
  },
  {
   "cell_type": "code",
   "execution_count": 8,
   "metadata": {
    "scrolled": true
   },
   "outputs": [],
   "source": [
    "driver.get(firsturl)\n",
    "test = driver.page_source"
   ]
  },
  {
   "cell_type": "code",
   "execution_count": 9,
   "metadata": {},
   "outputs": [],
   "source": [
    "sopa = soup(test, 'html.parser')"
   ]
  },
  {
   "cell_type": "code",
   "execution_count": 10,
   "metadata": {},
   "outputs": [],
   "source": [
    "testes = sopa.find_all(\"div\", {\"class\":\"jobsearch-SerpJobCard unifiedRow row result clickcard\"})"
   ]
  },
  {
   "cell_type": "code",
   "execution_count": 11,
   "metadata": {},
   "outputs": [
    {
     "data": {
      "text/plain": [
       "'/rc/clk?jk=65cde011c7703dc7&fccid=11ce762f0d1b0b03&vjs=3'"
      ]
     },
     "execution_count": 11,
     "metadata": {},
     "output_type": "execute_result"
    }
   ],
   "source": [
    "testes[0].h2.a[\"href\"]"
   ]
  },
  {
   "cell_type": "code",
   "execution_count": 12,
   "metadata": {},
   "outputs": [],
   "source": [
    "links = []"
   ]
  },
  {
   "cell_type": "code",
   "execution_count": 13,
   "metadata": {},
   "outputs": [],
   "source": [
    "for link in testes:\n",
    "    cleanlink = link.h2.a[\"href\"]\n",
    "    fulllink = \"https://www.indeed.co.in\"+cleanlink\n",
    "    links.append(fulllink)"
   ]
  },
  {
   "cell_type": "code",
   "execution_count": 14,
   "metadata": {},
   "outputs": [
    {
     "data": {
      "text/plain": [
       "['https://www.indeed.co.in/rc/clk?jk=65cde011c7703dc7&fccid=11ce762f0d1b0b03&vjs=3',\n",
       " 'https://www.indeed.co.in/rc/clk?jk=760544519b245b9f&fccid=16657f7123a61258&vjs=3',\n",
       " 'https://www.indeed.co.in/rc/clk?jk=d4b8b59042d0c3d6&fccid=1ee9ffc8a0598d6c&vjs=3',\n",
       " 'https://www.indeed.co.in/rc/clk?jk=596bef4d18e2b19e&fccid=1ee9ffc8a0598d6c&vjs=3',\n",
       " 'https://www.indeed.co.in/rc/clk?jk=eb29c0df6cd0257c&fccid=16657f7123a61258&vjs=3',\n",
       " 'https://www.indeed.co.in/rc/clk?jk=3e1bf206a8a1ef58&fccid=20d90a18bcf91db8&vjs=3',\n",
       " 'https://www.indeed.co.in/rc/clk?jk=039ff986401b7967&fccid=42bfc5a97647daf5&vjs=3',\n",
       " 'https://www.indeed.co.in/rc/clk?jk=1d24c3a5a48eff2f&fccid=3eee091df9ebcb4e&vjs=3',\n",
       " 'https://www.indeed.co.in/rc/clk?jk=b4281a50bc30edb2&fccid=346dfd0426815f62&vjs=3',\n",
       " 'https://www.indeed.co.in/rc/clk?jk=779b088ccffe0857&fccid=42bfc5a97647daf5&vjs=3',\n",
       " 'https://www.indeed.co.in/rc/clk?jk=ecd280b5aeadd0a3&fccid=ebe92c1659c8371b&vjs=3',\n",
       " 'https://www.indeed.co.in/company/Shadowfax-Technologies-Pvt-Ltd/jobs/Delivery-Executive-d80ecd434bfb706c?fccid=89c02c17f9010d99&vjs=3',\n",
       " 'https://www.indeed.co.in/rc/clk?jk=6f28404bca016847&fccid=42bfc5a97647daf5&vjs=3',\n",
       " 'https://www.indeed.co.in/rc/clk?jk=a6ad723607acf45f&fccid=1544766d4c2915b0&vjs=3',\n",
       " 'https://www.indeed.co.in/rc/clk?jk=2d9bdd7104a37d9d&fccid=2b0747953133cbf2&vjs=3']"
      ]
     },
     "execution_count": 14,
     "metadata": {},
     "output_type": "execute_result"
    }
   ],
   "source": [
    "links"
   ]
  },
  {
   "cell_type": "code",
   "execution_count": 40,
   "metadata": {},
   "outputs": [
    {
     "ename": "AttributeError",
     "evalue": "ResultSet object has no attribute 'find'. You're probably treating a list of elements like a single element. Did you call find_all() when you meant to call find()?",
     "output_type": "error",
     "traceback": [
      "\u001b[0;31m---------------------------------------------------------------------------\u001b[0m",
      "\u001b[0;31mAttributeError\u001b[0m                            Traceback (most recent call last)",
      "\u001b[0;32m<ipython-input-40-86c572a2bf97>\u001b[0m in \u001b[0;36m<module>\u001b[0;34m\u001b[0m\n\u001b[1;32m      6\u001b[0m     \u001b[0;32mfor\u001b[0m \u001b[0mdata\u001b[0m \u001b[0;32min\u001b[0m \u001b[0mjobposting\u001b[0m\u001b[0;34m:\u001b[0m\u001b[0;34m\u001b[0m\u001b[0;34m\u001b[0m\u001b[0m\n\u001b[1;32m      7\u001b[0m         \u001b[0mjobtitle\u001b[0m \u001b[0;34m=\u001b[0m \u001b[0mdata\u001b[0m\u001b[0;34m.\u001b[0m\u001b[0mdiv\u001b[0m\u001b[0;34m.\u001b[0m\u001b[0mh1\u001b[0m\u001b[0;34m.\u001b[0m\u001b[0mtext\u001b[0m\u001b[0;34m.\u001b[0m\u001b[0mstrip\u001b[0m\u001b[0;34m(\u001b[0m\u001b[0;34m)\u001b[0m\u001b[0;34m.\u001b[0m\u001b[0mreplace\u001b[0m\u001b[0;34m(\u001b[0m\u001b[0;34m\",\"\u001b[0m\u001b[0;34m,\u001b[0m \u001b[0;34m\"&\"\u001b[0m\u001b[0;34m)\u001b[0m\u001b[0;34m\u001b[0m\u001b[0;34m\u001b[0m\u001b[0m\n\u001b[0;32m----> 8\u001b[0;31m         \u001b[0mjobcompany\u001b[0m \u001b[0;34m=\u001b[0m \u001b[0mjobposting\u001b[0m\u001b[0;34m.\u001b[0m\u001b[0mfind\u001b[0m\u001b[0;34m(\u001b[0m\u001b[0;34m\"div\"\u001b[0m\u001b[0;34m,\u001b[0m \u001b[0;34m{\u001b[0m\u001b[0;34m\"class\"\u001b[0m\u001b[0;34m:\u001b[0m\u001b[0;34m\"icl-u-lg-mr--sm icl-u-xs-mr--xs\"\u001b[0m\u001b[0;34m}\u001b[0m\u001b[0;34m)\u001b[0m\u001b[0;34m\u001b[0m\u001b[0;34m\u001b[0m\u001b[0m\n\u001b[0m\u001b[1;32m      9\u001b[0m         \u001b[0mprint\u001b[0m\u001b[0;34m(\u001b[0m\u001b[0mjobtitle\u001b[0m\u001b[0;34m)\u001b[0m\u001b[0;34m\u001b[0m\u001b[0;34m\u001b[0m\u001b[0m\n\u001b[1;32m     10\u001b[0m         \u001b[0mprint\u001b[0m\u001b[0;34m(\u001b[0m\u001b[0mjobcompany\u001b[0m\u001b[0;34m)\u001b[0m\u001b[0;34m\u001b[0m\u001b[0;34m\u001b[0m\u001b[0m\n",
      "\u001b[0;32m~/.local/lib/python3.6/site-packages/bs4/element.py\u001b[0m in \u001b[0;36m__getattr__\u001b[0;34m(self, key)\u001b[0m\n\u001b[1;32m   2159\u001b[0m         \u001b[0;34m\"\"\"Raise a helpful exception to explain a common code fix.\"\"\"\u001b[0m\u001b[0;34m\u001b[0m\u001b[0;34m\u001b[0m\u001b[0m\n\u001b[1;32m   2160\u001b[0m         raise AttributeError(\n\u001b[0;32m-> 2161\u001b[0;31m             \u001b[0;34m\"ResultSet object has no attribute '%s'. You're probably treating a list of elements like a single element. Did you call find_all() when you meant to call find()?\"\u001b[0m \u001b[0;34m%\u001b[0m \u001b[0mkey\u001b[0m\u001b[0;34m\u001b[0m\u001b[0;34m\u001b[0m\u001b[0m\n\u001b[0m\u001b[1;32m   2162\u001b[0m         )\n",
      "\u001b[0;31mAttributeError\u001b[0m: ResultSet object has no attribute 'find'. You're probably treating a list of elements like a single element. Did you call find_all() when you meant to call find()?"
     ]
    }
   ],
   "source": [
    "for link in links:\n",
    "    driver.get(link)\n",
    "    url = driver.page_source\n",
    "    soup = BeautifulSoup(url, 'html.parser')\n",
    "    jobposting = soup.find_all(\"div\", {\"class\":\"jobsearch-ViewJobLayout-jobDisplay icl-Grid-col icl-u-xs-span12 icl-u-lg-span7\"})\n",
    "    for data in jobposting:\n",
    "        jobtitle = data.div.h1.text.strip().replace(\",\", \"&\")\n",
    "        print(jobtitle)\n",
    "        print(jobcompany)"
   ]
  },
  {
   "cell_type": "code",
   "execution_count": null,
   "metadata": {},
   "outputs": [],
   "source": []
  }
 ],
 "metadata": {
  "kernelspec": {
   "display_name": "Python 3",
   "language": "python",
   "name": "python3"
  },
  "language_info": {
   "codemirror_mode": {
    "name": "ipython",
    "version": 3
   },
   "file_extension": ".py",
   "mimetype": "text/x-python",
   "name": "python",
   "nbconvert_exporter": "python",
   "pygments_lexer": "ipython3",
   "version": "3.6.9"
  }
 },
 "nbformat": 4,
 "nbformat_minor": 4
}
